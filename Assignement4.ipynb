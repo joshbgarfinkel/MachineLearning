{
  "cells": [
    {
      "cell_type": "markdown",
      "metadata": {
        "id": "view-in-github",
        "colab_type": "text"
      },
      "source": [
        "<a href=\"https://colab.research.google.com/github/joshbgarfinkel/MachineLearning/blob/main/Assignement4.ipynb\" target=\"_parent\"><img src=\"https://colab.research.google.com/assets/colab-badge.svg\" alt=\"Open In Colab\"/></a>"
      ]
    },
    {
      "cell_type": "code",
      "execution_count": 1,
      "metadata": {
        "id": "JrcnYydPW7dW"
      },
      "outputs": [],
      "source": [
        "import numpy as np\n",
        "import pandas as pd\n",
        "from collections import Counter # Counter is a very useful data structure for counting the frequency of occurence\n",
        "from tqdm import tqdm\n",
        "import matplotlib.pyplot as plt"
      ]
    },
    {
      "cell_type": "code",
      "execution_count": 2,
      "metadata": {
        "id": "4wDUUn5mXZN-",
        "colab": {
          "base_uri": "https://localhost:8080/"
        },
        "outputId": "03f153d5-9c83-4d74-bc87-7a91d65b870f"
      },
      "outputs": [
        {
          "output_type": "stream",
          "name": "stdout",
          "text": [
            "Mounted at /content/drive\n",
            "/content/drive/MyDrive/PHYS486_786\n"
          ]
        }
      ],
      "source": [
        "from google.colab import drive\n",
        "drive.mount('/content/drive')\n",
        "%cd /content/drive/MyDrive/PHYS486_786/\n",
        "#drive.mount(\"/content/drive\", force_remount=True)"
      ]
    },
    {
      "cell_type": "markdown",
      "metadata": {
        "id": "pSt_NFf1dY6V"
      },
      "source": [
        "Load the imdb dataset"
      ]
    },
    {
      "cell_type": "code",
      "execution_count": 3,
      "metadata": {
        "id": "s-dA8M4zVjmG"
      },
      "outputs": [],
      "source": [
        "path = 'datasets/imdb/imdb.csv'\n",
        "imdb_dataset = pd.read_csv(path)"
      ]
    },
    {
      "cell_type": "markdown",
      "metadata": {
        "id": "wbsfPDbydbWz"
      },
      "source": [
        "Create a big string $X$ of all reviews"
      ]
    },
    {
      "cell_type": "code",
      "execution_count": 4,
      "metadata": {
        "id": "gMk1fkvzYwzF"
      },
      "outputs": [],
      "source": [
        "reviews = imdb_dataset['review'].values\n",
        "all_reviews = ''.join(reviews)\n",
        "total_chars = len(all_reviews)"
      ]
    },
    {
      "cell_type": "markdown",
      "metadata": {
        "id": "sR4DMo7LTSfb"
      },
      "source": [
        "Let $\\chi$ denote the set of unique characters in the concatenated string $X$.\n",
        "\n",
        "We can easily estimate $\\chi$ by converting $X$ into a set."
      ]
    },
    {
      "cell_type": "code",
      "execution_count": 5,
      "metadata": {
        "colab": {
          "base_uri": "https://localhost:8080/"
        },
        "id": "1t0DNobXTRwF",
        "outputId": "60740b13-0910-4006-c1eb-825cce83d245"
      },
      "outputs": [
        {
          "output_type": "stream",
          "name": "stdout",
          "text": [
            "Size of set $\\chi$: 206\n",
            "['\\x08', '¾', 'ו', 'Á', '°', '¨', '\\x80', 'í', '\\x96', 'ğ', 'È', 'ã', 'N', 'º', '{', '″', 'א', 'P', 'm', 'Ó', 'Ø', 'ç', '…', '、', '1', '&', '$', 'ë', 'Õ', 'Ä', '2', '®', '，', 'ä', '_', '¦', '–', 'מ', '\\x95', '%', '\\x85', 'ó', 'q', 's', 'ø', 'Â', '~', '▼', ')', '¤', 'n', 'Å', '0', 'Ð', 'Ç', 'e', '½', ':', '“', 'C', '!', '₤', '\\x97', 'Ï', 'h', '´', 'Þ', '³', 'k', 'ל', '\\uf0b7', 'a', '§', 'G', '<', '7', 'z', 'Ö', '¡', 'æ', '\\xa0', '«', '\\x10', 't', '=', '3', '\\x84', 'r', 'B', '4', ']', '£', 'ò', 'U', '6', 'X', '#', 'å', 'כ', 'p', 'Y', 'ג', 'é', 'ú', '5', '»', 'î', '-', 'À', '\\x8d', '`', 'c', 'i', 'õ', 'ý', '}', 'F', 'D', '.', 'ñ', 'S', 'Ż', '\\\\', 'á', 'Ü', '‘', '”', 'g', '(', 'y', 'ı', 'ö', '\"', 'A', 'o', '¿', 'ר', ';', 'ü', '/', '?', 'V', 'ê', 'w', ' ', '¢', 'É', 'O', 'â', 'ō', '©', 'ß', 'Z', 'L', '★', 'Q', '[', 'ì', 'Ã', '^', '9', '>', 'ª', 'u', 'J', ',', 'ô', 'I', 'j', '\\xad', 'x', 'W', 'K', 'ן', 'f', '\\x9a', 'd', '\\x9e', '\\x8e', '’', 'v', 'M', '\\t', '*', 'E', 'û', 'ù', 'l', 'Æ', '\\x91', '@', '|', '·', 'י', '+', 'ð', 'H', 'Ê', \"'\", 'à', '8', 'T', 'ï', 'R', 'è', 'b']\n"
          ]
        }
      ],
      "source": [
        "chi = list(set(all_reviews))\n",
        "print(fr'Size of set $\\chi$: {len(chi)}')\n",
        "print(chi)\n"
      ]
    },
    {
      "cell_type": "markdown",
      "metadata": {
        "id": "2AQJi3OtU9Yy"
      },
      "source": [
        "The set $\\chi$ has $206$ unique elements. Let us calculate the empirical probability of each character."
      ]
    },
    {
      "cell_type": "markdown",
      "metadata": {
        "id": "XhO0YcH-yErm"
      },
      "source": [
        "### Part 1: Model the text as an independent sequence of characters"
      ]
    },
    {
      "cell_type": "markdown",
      "metadata": {
        "id": "v-i98lt4dmkg"
      },
      "source": [
        "Task (a): Calculate the probability $p(x)$ for each character $x \\in \\chi$"
      ]
    },
    {
      "cell_type": "code",
      "execution_count": 14,
      "metadata": {
        "id": "ilbzX-pmablU",
        "colab": {
          "base_uri": "https://localhost:8080/"
        },
        "outputId": "851de0a1-74d5-4f1b-f007-4b12dd09349d"
      },
      "outputs": [
        {
          "output_type": "stream",
          "name": "stdout",
          "text": [
            "O 0.0008400289768604993\n",
            "n 0.05073004914760611\n",
            "e 0.09220051927592185\n",
            "  0.1757602626520945\n",
            "o 0.05734573173621624\n",
            "f 0.01657235827512319\n",
            "t 0.06973298982942988\n",
            "h 0.041264472259103804\n",
            "r 0.045869525834205456\n",
            "v 0.00943800766228984\n",
            "i 0.05581178304451654\n"
          ]
        }
      ],
      "source": [
        "hist = Counter(all_reviews)\n",
        "for key in hist:\n",
        "  hist[key] = hist[key] / total_chars\n",
        "i = 0\n",
        "for key in hist:\n",
        "  print(key, hist[key])\n",
        "  i += 1\n",
        "  if i > 10:\n",
        "    break"
      ]
    },
    {
      "cell_type": "markdown",
      "metadata": {
        "id": "DBv-WhAbwjXd"
      },
      "source": [
        "Next, let us plot the sorted probabilities\n",
        "\n",
        "Task (b): Plot the sorted probabilities on the y axis against the sorted characters on the x axis"
      ]
    },
    {
      "cell_type": "code",
      "execution_count": 7,
      "metadata": {
        "colab": {
          "base_uri": "https://localhost:8080/",
          "height": 563
        },
        "id": "1hAMg7OFrqLc",
        "outputId": "553f4562-4ef5-4a05-8895-b7c9d40baa81"
      },
      "outputs": [
        {
          "output_type": "execute_result",
          "data": {
            "text/plain": [
              "Text(0, 0.5, 'Sorted probabilities')"
            ]
          },
          "metadata": {},
          "execution_count": 7
        },
        {
          "output_type": "display_data",
          "data": {
            "text/plain": [
              "<Figure size 800x600 with 1 Axes>"
            ],
            "image/png": "[encoded data removed]"
          },
          "metadata": {}
        }
      ],
      "source": [
        "fig, ax = plt.subplots(1, 1, figsize = (8, 6))\n",
        "# instead of the keys on the x axis, plot numbers\n",
        "numbers = len(chi)\n",
        "ax.scatter(np.arange(1, len(hist)+1), np.sort(np.array(list(hist.values()))))\n",
        "\n",
        "ax.set_xscale('log')\n",
        "ax.set_yscale('log')\n",
        "ax.set_xlabel('Sorted character number')\n",
        "ax.set_ylabel('Sorted probabilities')"
      ]
    },
    {
      "cell_type": "markdown",
      "metadata": {
        "id": "74qxn2HAhZeJ"
      },
      "source": [
        "Next, let us calculate the entropy of string of length N.\n",
        "\n",
        "Task (c): Assuming that each character is independent, compute entropy $S_N$ of an $N = 100$ character string\n",
        "\n",
        "Solution: $$S_N = - N \\sum_{x \\in A} p(x) \\log p(x) $$"
      ]
    },
    {
      "cell_type": "code",
      "execution_count": 8,
      "metadata": {
        "id": "3q8tzW7fSgrw",
        "colab": {
          "base_uri": "https://localhost:8080/"
        },
        "outputId": "ff426ba8-6769-42e4-aab2-1f072b840c17"
      },
      "outputs": [
        {
          "output_type": "stream",
          "name": "stdout",
          "text": [
            "One of the other reviewers has mentioned that after watching just 1 Oz episode you'll be hooked. The\n",
            "Entropy of N string: 2374.05\n"
          ]
        }
      ],
      "source": [
        "N = 100\n",
        "randString = ''.join(all_reviews[:N])\n",
        "print(randString)\n",
        "char_probs = np.array([hist[char] for char in randString])\n",
        "\n",
        "SN = -N * np.sum(char_probs * np.log2(char_probs))\n",
        "\n",
        "# Compare to uniform distribution with prob 1 / |Chi|\n",
        "print(f'Entropy of N string: {SN:0.2f}')"
      ]
    },
    {
      "cell_type": "markdown",
      "metadata": {
        "id": "G3SnkmpHvyT4"
      },
      "source": [
        "Let us compare it with the entropy if we did not have any information about the probabilities (assume that every character is equally likely)"
      ]
    },
    {
      "cell_type": "code",
      "execution_count": 9,
      "metadata": {
        "colab": {
          "base_uri": "https://localhost:8080/"
        },
        "id": "TtevDDKkvxpa",
        "outputId": "47814818-1b54-4d45-8286-78e3ad32bf41"
      },
      "outputs": [
        {
          "output_type": "stream",
          "name": "stdout",
          "text": [
            "Entropy of uniform distribution: 768.6501\n"
          ]
        }
      ],
      "source": [
        "S_uni = N * np.log2(len(chi))\n",
        "print(f'Entropy of uniform distribution: {S_uni:0.4f}')"
      ]
    },
    {
      "cell_type": "markdown",
      "metadata": {
        "id": "4J5oNAaEdrh9"
      },
      "source": [
        "### Part 2: Model the string using bigrams (pairs of characters)\n",
        "\n",
        "Instead of modeling the text as independent characters, model the text using the joint distribution of pair of characters\n",
        "\n",
        "Let us denote the probability of pair of characters $x, y \\in \\chi$ as $p(x, y)$\n",
        "\n",
        "Task (a): Calculate joint distribution of pair of characters $p(x, y)$"
      ]
    },
    {
      "cell_type": "code",
      "execution_count": 10,
      "metadata": {
        "id": "BkqXaVDWceZF"
      },
      "outputs": [],
      "source": [
        "pair_freqs = Counter(zip(all_reviews[:], all_reviews[1:]))\n",
        "sumFreq = np.sum(list(pair_freqs.values()))\n",
        "pairFreqs = {}\n",
        "for key in pair_freqs:\n",
        "  pairFreqs[key] = pair_freqs[key] / sumFreq"
      ]
    },
    {
      "cell_type": "code",
      "source": [
        "i = 0\n",
        "for key in pairFreqs:\n",
        "  print(key, pairFreqs[key])\n",
        "  i += 1\n",
        "  if i > 10:\n",
        "    break\n",
        "#print(list(pairFreqs.values()))\n",
        "#print(np.sum(list(pairFreqs.values())))"
      ],
      "metadata": {
        "colab": {
          "base_uri": "https://localhost:8080/"
        },
        "id": "jPbQtVNUK8Zg",
        "outputId": "ca46efce-bdb5-4e5a-aa1e-822c55026fca"
      },
      "execution_count": 11,
      "outputs": [
        {
          "output_type": "stream",
          "name": "stdout",
          "text": [
            "('O', 'n') 0.00013231701403128534\n",
            "('n', 'e') 0.004270175366246866\n",
            "('e', ' ') 0.03015893162755426\n",
            "(' ', 'o') 0.009405184389249987\n",
            "('o', 'f') 0.004802024696223016\n",
            "('f', ' ') 0.005376243574499152\n",
            "(' ', 't') 0.023809150692170874\n",
            "('t', 'h') 0.02036991639880223\n",
            "('h', 'e') 0.017539389246168754\n",
            "('o', 't') 0.0031871706107461945\n",
            "('e', 'r') 0.01203397506245079\n"
          ]
        }
      ]
    },
    {
      "cell_type": "markdown",
      "metadata": {
        "id": "4cEOT_BbS2qw"
      },
      "source": [
        "Next, let us estimate the conditional probability of observing $x$ given the preceding character $y$\n",
        "\n",
        "Task (b): Compute the conditional probabilties $p(x | y)$ for each $y \\in \\chi$ and compute the conditional probabilities\n",
        "\n",
        "$$S_{X | Y = y} = - \\sum_{x} p(x | y) \\log p(x|y) $$"
      ]
    },
    {
      "cell_type": "code",
      "execution_count": 21,
      "metadata": {
        "id": "bPewox-5u1id",
        "colab": {
          "base_uri": "https://localhost:8080/"
        },
        "outputId": "082d191f-c484-4b09-bde7-122b72c6a864"
      },
      "outputs": [
        {
          "output_type": "stream",
          "name": "stdout",
          "text": [
            "First 10 S(X|Y=y):\n",
            "y values\t S(X|Y=y)value \n",
            "m \t\t 0.49000695802974953\n",
            "1 \t\t 0.30079390470532186\n",
            "s \t\t 1.659170404448871\n",
            "n \t\t 1.305988244525024\n",
            "e \t\t 4.249597581905498\n",
            "h \t\t 3.152527949187591\n",
            "k \t\t 0.5299768650193883\n",
            "a \t\t 1.1089970050421196\n",
            "z \t\t 0.2581140714177471\n",
            "t \t\t 3.1994925877544356\n",
            "r \t\t 1.692664240313812\n",
            "S(X|Y) =  1.8796434313512687\n"
          ]
        }
      ],
      "source": [
        "SXy = {}\n",
        "strTup = tuple(zip(randString[:], randString[1:]))\n",
        "pXy = {}\n",
        "for tup in strTup:\n",
        "    pXy[tup] = pairFreqs[tup] / hist[tup[0]]\n",
        "\n",
        "\n",
        "for i in range(len(chi)):\n",
        "    for tup in strTup:\n",
        "        if tup[0] == chi[i]:\n",
        "            if chi[i] not in SXy:\n",
        "                SXy[chi[i]] = 0\n",
        "            SXy[chi[i]] += -pXy[tup] * np.log2(pXy[tup])\n",
        "\n",
        "i = 0\n",
        "print('First 10 S(X|Y=y):')\n",
        "print('y values\\t S(X|Y=y)value ')\n",
        "for key in SXy:\n",
        "  print(key,'\\t\\t', SXy[key])\n",
        "  i += 1\n",
        "  if i > 10:\n",
        "    break\n",
        "\n",
        "\n",
        "SXY = np.sum([hist[char] * SXy[char] for char in list(SXy.keys())])\n",
        "print('S(X|Y) = ', SXY)"
      ]
    },
    {
      "cell_type": "markdown",
      "metadata": {
        "id": "i1T7Xcx4h60g"
      },
      "source": [
        "Next, let us calculate the conditional probability (equation 25 of the notes)\n",
        "\n",
        "\n",
        "\n",
        "$$S_{X | Y} = \\sum_y p(y) S_{X | Y = y}$$\n"
      ]
    },
    {
      "cell_type": "markdown",
      "metadata": {
        "id": "ULT-kMkdm249"
      },
      "source": [
        "Task (c): Assuming that each character only depends on the preceding character, compute the entropy of N character string.\n",
        "\n",
        "Note: It might be useful to solve Problem 1 of Assignment-5 Part II"
      ]
    },
    {
      "cell_type": "code",
      "execution_count": 22,
      "metadata": {
        "id": "-fEZPmiTmvVY",
        "outputId": "c4fb0189-73aa-41bf-ec7a-85115a149f71",
        "colab": {
          "base_uri": "https://localhost:8080/"
        }
      },
      "outputs": [
        {
          "output_type": "stream",
          "name": "stdout",
          "text": [
            "One of the other reviewers has mentioned that after watching just 1 Oz episode you'll be hooked. The\n",
            "Entropy on modeling the text as bigrams: 2375.9250\n"
          ]
        }
      ],
      "source": [
        "N = 100\n",
        "#randString = [all_reviews[np.random.randint(low=0, high=len(all_reviews))] for _ in range(N)]\n",
        "#randString = ''.join(randString)\n",
        "randString = ''.join(all_reviews[:N])\n",
        "#randString = ''.join(['N']*100)\n",
        "print(randString)\n",
        "\n",
        "#estimate the entropy of the sequence modeled using pairs of characters\n",
        "SXcY = SXY+SN\n",
        "\n",
        "\n",
        "\n",
        "total_entropy = SXcY\n",
        "print(f'Entropy on modeling the text as bigrams: {total_entropy:0.4f}')"
      ]
    }
  ],
  "metadata": {
    "colab": {
      "provenance": [],
      "include_colab_link": true
    },
    "kernelspec": {
      "display_name": "Python 3",
      "name": "python3"
    },
    "language_info": {
      "codemirror_mode": {
        "name": "ipython",
        "version": 3
      },
      "file_extension": ".py",
      "mimetype": "text/x-python",
      "name": "python",
      "nbconvert_exporter": "python",
      "pygments_lexer": "ipython3",
      "version": "3.11.3"
    }
  },
  "nbformat": 4,
  "nbformat_minor": 0
}